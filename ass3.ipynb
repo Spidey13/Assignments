{
 "cells": [
  {
   "cell_type": "markdown",
   "metadata": {},
   "source": [
    "Python Assignment 3"
   ]
  },
  {
   "cell_type": "markdown",
   "metadata": {},
   "source": [
    "Q1"
   ]
  },
  {
   "cell_type": "code",
   "execution_count": 2,
   "metadata": {},
   "outputs": [
    {
     "name": "stdout",
     "output_type": "stream",
     "text": [
      "Input:\n",
      "Output:\n",
      "List of First n Natural numbers are: [1, 2]\n",
      "Sum of List elements are : 3\n"
     ]
    }
   ],
   "source": [
    "def myreduce(num):\n",
    "    ''' This functionm will return sum of n Natural numbers'''\n",
    "    num_list=list(range(1,number+1))\n",
    "    sum_of_elements=0\n",
    "    \n",
    "    for i in num_list:\n",
    "        sum_of_elements+=i\n",
    "        \n",
    "    return num_list,sum_of_elements\n",
    "\n",
    "#Input \n",
    "print(\"Input:\")\n",
    "number=int(input(\"Please insert the number :\"))\n",
    "\n",
    "#Function Execution\n",
    "\n",
    "output_value=myreduce(number)\n",
    "\n",
    "#Output\n",
    "print(\"Output:\")\n",
    "print(\"List of First n Natural numbers are:\",output_value[0])\n",
    "print(\"Sum of List elements are :\",output_value[1])  "
   ]
  },
  {
   "cell_type": "markdown",
   "metadata": {},
   "source": [
    "Q2"
   ]
  },
  {
   "cell_type": "code",
   "execution_count": 6,
   "metadata": {},
   "outputs": [
    {
     "name": "stdout",
     "output_type": "stream",
     "text": [
      "Output:\n",
      "List of numbers: [1, 2, 3, 4, 5, 6, 7, 8, 9, 10, 11, 12, 13, 14, 15, 16, 17, 18, 19, 20]\n",
      "List of Even numbers, which are multiples of 5 are: [10, 20]\n",
      "List of Odd numbers, which are multiples of 5 are: [5, 15]\n"
     ]
    }
   ],
   "source": [
    "\n",
    "number=int(input(\"Please insert the number: \"))\n",
    "\n",
    "num_list=list(range(1,number+1))\n",
    "\n",
    "\n",
    "def myfilter(num_list):\n",
    "    '''This function will filter even and odd numbers from list which are multiples of 5 '''\n",
    "    num_even_list=[]\n",
    "    num_odd_list=[]\n",
    "    \n",
    "    for i in num_list:\n",
    "        if(i%5==0):\n",
    "            if(i%2==0):\n",
    "                num_even_list.append(i)\n",
    "            else:\n",
    "                num_odd_list.append(i)\n",
    "                \n",
    "    return num_even_list,num_odd_list\n",
    "\n",
    "\n",
    "#Function Execution\n",
    "output_value=myfilter(num_list)\n",
    "\n",
    "\n",
    "print(\"Output:\")\n",
    "print(\"List of numbers:\",num_list)\n",
    "print(\"List of Even numbers, which are multiples of 5 are:\",output_value[0])\n",
    "print(\"List of Odd numbers, which are multiples of 5 are:\",output_value[1])"
   ]
  },
  {
   "cell_type": "markdown",
   "metadata": {},
   "source": [
    "Q3"
   ]
  },
  {
   "cell_type": "code",
   "execution_count": 7,
   "metadata": {},
   "outputs": [
    {
     "name": "stdout",
     "output_type": "stream",
     "text": [
      "Input:\n",
      "Output:\n",
      "West-Bengal\n"
     ]
    }
   ],
   "source": [
    "def longestWord(word_list):\n",
    "    '''This function will return longest word from input word list'''\n",
    "    wordlen=[]\n",
    "    for w in word_list:\n",
    "        wordlen.append((len(w),w))\n",
    "    wordlen.sort()\n",
    "    return wordlen[-1][-1]\n",
    "\n",
    "#Input\n",
    "print(\"Input:\")\n",
    "word_list=input(\"Please enter your word: \")\n",
    "word_list=word_list.split(\",\")\n",
    "#function execution\n",
    "longest_word=longestWord(word_list)\n",
    "print(\"Output:\")\n",
    "print(longest_word)"
   ]
  }
 ],
 "metadata": {
  "kernelspec": {
   "display_name": "Python 3.9.5 64-bit",
   "language": "python",
   "name": "python3"
  },
  "language_info": {
   "codemirror_mode": {
    "name": "ipython",
    "version": 3
   },
   "file_extension": ".py",
   "mimetype": "text/x-python",
   "name": "python",
   "nbconvert_exporter": "python",
   "pygments_lexer": "ipython3",
   "version": "3.9.5"
  },
  "orig_nbformat": 4,
  "vscode": {
   "interpreter": {
    "hash": "934443d98082ac400113a92938ac5523e3ffc912d8db551f7bf1854c467d9ab9"
   }
  }
 },
 "nbformat": 4,
 "nbformat_minor": 2
}
