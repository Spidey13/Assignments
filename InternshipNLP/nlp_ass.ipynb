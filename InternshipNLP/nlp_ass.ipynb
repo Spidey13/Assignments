{
  "nbformat": 4,
  "nbformat_minor": 0,
  "metadata": {
    "colab": {
      "provenance": []
    },
    "kernelspec": {
      "name": "python3",
      "display_name": "Python 3"
    },
    "language_info": {
      "name": "python"
    },
    "accelerator": "GPU",
    "gpuClass": "standard"
  },
  "cells": [
    {
      "cell_type": "code",
      "source": [
        "!python -m spacy download en_core_web_lg"
      ],
      "metadata": {
        "colab": {
          "base_uri": "https://localhost:8080/"
        },
        "id": "P1FW3ns2MFWW",
        "outputId": "2d1a305b-9787-426f-e83a-b7930b5f93f4"
      },
      "execution_count": 6,
      "outputs": [
        {
          "output_type": "stream",
          "name": "stdout",
          "text": [
            "2023-04-28 16:35:27.013273: W tensorflow/compiler/tf2tensorrt/utils/py_utils.cc:38] TF-TRT Warning: Could not find TensorRT\n",
            "Looking in indexes: https://pypi.org/simple, https://us-python.pkg.dev/colab-wheels/public/simple/\n",
            "Collecting en-core-web-lg==3.5.0\n",
            "  Downloading https://github.com/explosion/spacy-models/releases/download/en_core_web_lg-3.5.0/en_core_web_lg-3.5.0-py3-none-any.whl (587.7 MB)\n",
            "\u001b[2K     \u001b[90m━━━━━━━━━━━━━━━━━━━━━━━━━━━━━━━━━━━━━━━\u001b[0m \u001b[32m587.7/587.7 MB\u001b[0m \u001b[31m2.9 MB/s\u001b[0m eta \u001b[36m0:00:00\u001b[0m\n",
            "\u001b[?25hRequirement already satisfied: spacy<3.6.0,>=3.5.0 in /usr/local/lib/python3.10/dist-packages (from en-core-web-lg==3.5.0) (3.5.2)\n",
            "Requirement already satisfied: numpy>=1.15.0 in /usr/local/lib/python3.10/dist-packages (from spacy<3.6.0,>=3.5.0->en-core-web-lg==3.5.0) (1.22.4)\n",
            "Requirement already satisfied: setuptools in /usr/local/lib/python3.10/dist-packages (from spacy<3.6.0,>=3.5.0->en-core-web-lg==3.5.0) (67.7.2)\n",
            "Requirement already satisfied: tqdm<5.0.0,>=4.38.0 in /usr/local/lib/python3.10/dist-packages (from spacy<3.6.0,>=3.5.0->en-core-web-lg==3.5.0) (4.65.0)\n",
            "Requirement already satisfied: catalogue<2.1.0,>=2.0.6 in /usr/local/lib/python3.10/dist-packages (from spacy<3.6.0,>=3.5.0->en-core-web-lg==3.5.0) (2.0.8)\n",
            "Requirement already satisfied: srsly<3.0.0,>=2.4.3 in /usr/local/lib/python3.10/dist-packages (from spacy<3.6.0,>=3.5.0->en-core-web-lg==3.5.0) (2.4.6)\n",
            "Requirement already satisfied: packaging>=20.0 in /usr/local/lib/python3.10/dist-packages (from spacy<3.6.0,>=3.5.0->en-core-web-lg==3.5.0) (23.1)\n",
            "Requirement already satisfied: requests<3.0.0,>=2.13.0 in /usr/local/lib/python3.10/dist-packages (from spacy<3.6.0,>=3.5.0->en-core-web-lg==3.5.0) (2.27.1)\n",
            "Requirement already satisfied: murmurhash<1.1.0,>=0.28.0 in /usr/local/lib/python3.10/dist-packages (from spacy<3.6.0,>=3.5.0->en-core-web-lg==3.5.0) (1.0.9)\n",
            "Requirement already satisfied: cymem<2.1.0,>=2.0.2 in /usr/local/lib/python3.10/dist-packages (from spacy<3.6.0,>=3.5.0->en-core-web-lg==3.5.0) (2.0.7)\n",
            "Requirement already satisfied: pydantic!=1.8,!=1.8.1,<1.11.0,>=1.7.4 in /usr/local/lib/python3.10/dist-packages (from spacy<3.6.0,>=3.5.0->en-core-web-lg==3.5.0) (1.10.7)\n",
            "Requirement already satisfied: spacy-legacy<3.1.0,>=3.0.11 in /usr/local/lib/python3.10/dist-packages (from spacy<3.6.0,>=3.5.0->en-core-web-lg==3.5.0) (3.0.12)\n",
            "Requirement already satisfied: smart-open<7.0.0,>=5.2.1 in /usr/local/lib/python3.10/dist-packages (from spacy<3.6.0,>=3.5.0->en-core-web-lg==3.5.0) (6.3.0)\n",
            "Requirement already satisfied: spacy-loggers<2.0.0,>=1.0.0 in /usr/local/lib/python3.10/dist-packages (from spacy<3.6.0,>=3.5.0->en-core-web-lg==3.5.0) (1.0.4)\n",
            "Requirement already satisfied: preshed<3.1.0,>=3.0.2 in /usr/local/lib/python3.10/dist-packages (from spacy<3.6.0,>=3.5.0->en-core-web-lg==3.5.0) (3.0.8)\n",
            "Requirement already satisfied: wasabi<1.2.0,>=0.9.1 in /usr/local/lib/python3.10/dist-packages (from spacy<3.6.0,>=3.5.0->en-core-web-lg==3.5.0) (1.1.1)\n",
            "Requirement already satisfied: typer<0.8.0,>=0.3.0 in /usr/local/lib/python3.10/dist-packages (from spacy<3.6.0,>=3.5.0->en-core-web-lg==3.5.0) (0.7.0)\n",
            "Requirement already satisfied: jinja2 in /usr/local/lib/python3.10/dist-packages (from spacy<3.6.0,>=3.5.0->en-core-web-lg==3.5.0) (3.1.2)\n",
            "Requirement already satisfied: thinc<8.2.0,>=8.1.8 in /usr/local/lib/python3.10/dist-packages (from spacy<3.6.0,>=3.5.0->en-core-web-lg==3.5.0) (8.1.9)\n",
            "Requirement already satisfied: langcodes<4.0.0,>=3.2.0 in /usr/local/lib/python3.10/dist-packages (from spacy<3.6.0,>=3.5.0->en-core-web-lg==3.5.0) (3.3.0)\n",
            "Requirement already satisfied: pathy>=0.10.0 in /usr/local/lib/python3.10/dist-packages (from spacy<3.6.0,>=3.5.0->en-core-web-lg==3.5.0) (0.10.1)\n",
            "Requirement already satisfied: typing-extensions>=4.2.0 in /usr/local/lib/python3.10/dist-packages (from pydantic!=1.8,!=1.8.1,<1.11.0,>=1.7.4->spacy<3.6.0,>=3.5.0->en-core-web-lg==3.5.0) (4.5.0)\n",
            "Requirement already satisfied: charset-normalizer~=2.0.0 in /usr/local/lib/python3.10/dist-packages (from requests<3.0.0,>=2.13.0->spacy<3.6.0,>=3.5.0->en-core-web-lg==3.5.0) (2.0.12)\n",
            "Requirement already satisfied: certifi>=2017.4.17 in /usr/local/lib/python3.10/dist-packages (from requests<3.0.0,>=2.13.0->spacy<3.6.0,>=3.5.0->en-core-web-lg==3.5.0) (2022.12.7)\n",
            "Requirement already satisfied: idna<4,>=2.5 in /usr/local/lib/python3.10/dist-packages (from requests<3.0.0,>=2.13.0->spacy<3.6.0,>=3.5.0->en-core-web-lg==3.5.0) (3.4)\n",
            "Requirement already satisfied: urllib3<1.27,>=1.21.1 in /usr/local/lib/python3.10/dist-packages (from requests<3.0.0,>=2.13.0->spacy<3.6.0,>=3.5.0->en-core-web-lg==3.5.0) (1.26.15)\n",
            "Requirement already satisfied: confection<1.0.0,>=0.0.1 in /usr/local/lib/python3.10/dist-packages (from thinc<8.2.0,>=8.1.8->spacy<3.6.0,>=3.5.0->en-core-web-lg==3.5.0) (0.0.4)\n",
            "Requirement already satisfied: blis<0.8.0,>=0.7.8 in /usr/local/lib/python3.10/dist-packages (from thinc<8.2.0,>=8.1.8->spacy<3.6.0,>=3.5.0->en-core-web-lg==3.5.0) (0.7.9)\n",
            "Requirement already satisfied: click<9.0.0,>=7.1.1 in /usr/local/lib/python3.10/dist-packages (from typer<0.8.0,>=0.3.0->spacy<3.6.0,>=3.5.0->en-core-web-lg==3.5.0) (8.1.3)\n",
            "Requirement already satisfied: MarkupSafe>=2.0 in /usr/local/lib/python3.10/dist-packages (from jinja2->spacy<3.6.0,>=3.5.0->en-core-web-lg==3.5.0) (2.1.2)\n",
            "\u001b[38;5;2m✔ Download and installation successful\u001b[0m\n",
            "You can now load the package via spacy.load('en_core_web_lg')\n"
          ]
        }
      ]
    },
    {
      "cell_type": "code",
      "source": [
        "!pip install transformers"
      ],
      "metadata": {
        "colab": {
          "base_uri": "https://localhost:8080/"
        },
        "id": "Y1DER1d9-5wz",
        "outputId": "9e150fcf-9a6f-4b50-cadf-6ffb6935630c"
      },
      "execution_count": 7,
      "outputs": [
        {
          "output_type": "stream",
          "name": "stdout",
          "text": [
            "Looking in indexes: https://pypi.org/simple, https://us-python.pkg.dev/colab-wheels/public/simple/\n",
            "Requirement already satisfied: transformers in /usr/local/lib/python3.10/dist-packages (4.28.1)\n",
            "Requirement already satisfied: pyyaml>=5.1 in /usr/local/lib/python3.10/dist-packages (from transformers) (6.0)\n",
            "Requirement already satisfied: numpy>=1.17 in /usr/local/lib/python3.10/dist-packages (from transformers) (1.22.4)\n",
            "Requirement already satisfied: regex!=2019.12.17 in /usr/local/lib/python3.10/dist-packages (from transformers) (2022.10.31)\n",
            "Requirement already satisfied: tokenizers!=0.11.3,<0.14,>=0.11.1 in /usr/local/lib/python3.10/dist-packages (from transformers) (0.13.3)\n",
            "Requirement already satisfied: tqdm>=4.27 in /usr/local/lib/python3.10/dist-packages (from transformers) (4.65.0)\n",
            "Requirement already satisfied: packaging>=20.0 in /usr/local/lib/python3.10/dist-packages (from transformers) (23.1)\n",
            "Requirement already satisfied: filelock in /usr/local/lib/python3.10/dist-packages (from transformers) (3.12.0)\n",
            "Requirement already satisfied: huggingface-hub<1.0,>=0.11.0 in /usr/local/lib/python3.10/dist-packages (from transformers) (0.14.1)\n",
            "Requirement already satisfied: requests in /usr/local/lib/python3.10/dist-packages (from transformers) (2.27.1)\n",
            "Requirement already satisfied: fsspec in /usr/local/lib/python3.10/dist-packages (from huggingface-hub<1.0,>=0.11.0->transformers) (2023.4.0)\n",
            "Requirement already satisfied: typing-extensions>=3.7.4.3 in /usr/local/lib/python3.10/dist-packages (from huggingface-hub<1.0,>=0.11.0->transformers) (4.5.0)\n",
            "Requirement already satisfied: certifi>=2017.4.17 in /usr/local/lib/python3.10/dist-packages (from requests->transformers) (2022.12.7)\n",
            "Requirement already satisfied: charset-normalizer~=2.0.0 in /usr/local/lib/python3.10/dist-packages (from requests->transformers) (2.0.12)\n",
            "Requirement already satisfied: urllib3<1.27,>=1.21.1 in /usr/local/lib/python3.10/dist-packages (from requests->transformers) (1.26.15)\n",
            "Requirement already satisfied: idna<4,>=2.5 in /usr/local/lib/python3.10/dist-packages (from requests->transformers) (3.4)\n"
          ]
        }
      ]
    },
    {
      "cell_type": "code",
      "execution_count": 8,
      "metadata": {
        "id": "Gb17aLtGIFI7"
      },
      "outputs": [],
      "source": [
        "from transformers import pipeline\n",
        "whisper = pipeline('automatic-speech-recognition', model='openai/whisper-medium', device=0)"
      ]
    },
    {
      "cell_type": "code",
      "source": [
        "text = whisper('call.wav')"
      ],
      "metadata": {
        "colab": {
          "base_uri": "https://localhost:8080/"
        },
        "id": "3djUKIYjJMiJ",
        "outputId": "ef20b858-7d8b-4ef5-cb19-08af0883aa69"
      },
      "execution_count": 9,
      "outputs": [
        {
          "output_type": "stream",
          "name": "stderr",
          "text": [
            "/usr/local/lib/python3.10/dist-packages/transformers/generation/utils.py:1313: UserWarning: Using `max_length`'s default (448) to control the generation length. This behaviour is deprecated and will be removed from the config in v5 of Transformers -- we recommend using `max_new_tokens` to control the maximum length of the generation.\n",
            "  warnings.warn(\n"
          ]
        }
      ]
    },
    {
      "cell_type": "code",
      "source": [
        "text = text['text']\n"
      ],
      "metadata": {
        "id": "DCk246wtJj2_"
      },
      "execution_count": 10,
      "outputs": []
    },
    {
      "cell_type": "code",
      "source": [
        "text"
      ],
      "metadata": {
        "colab": {
          "base_uri": "https://localhost:8080/",
          "height": 70
        },
        "id": "kzYQFR55OrPd",
        "outputId": "0ea1059c-ddd5-4891-f0be-bf525ea5fb72"
      },
      "execution_count": 11,
      "outputs": [
        {
          "output_type": "execute_result",
          "data": {
            "text/plain": [
              "\" Hello. Hi Nancy. This is Mike from AT&T Inc. Yes. How can I help you? Nancy, you have been using our prepaid connection for a couple of years now, right? Yeah, that's right. How would you like a postpaid connection that allows you to make free unlimited voice calls to three AT&T numbers?\""
            ],
            "application/vnd.google.colaboratory.intrinsic+json": {
              "type": "string"
            }
          },
          "metadata": {},
          "execution_count": 11
        }
      ]
    },
    {
      "cell_type": "code",
      "source": [
        "import spacy\n",
        "from spacy import displacy\n",
        "from spacy import tokenizer\n",
        "nlp = spacy.load('en_core_web_lg')\n"
      ],
      "metadata": {
        "id": "7cz9vATIJyAq"
      },
      "execution_count": 12,
      "outputs": []
    },
    {
      "cell_type": "code",
      "source": [
        "doc = nlp(text)\n"
      ],
      "metadata": {
        "id": "WsdNvVTVM5Mm"
      },
      "execution_count": 13,
      "outputs": []
    },
    {
      "cell_type": "code",
      "source": [
        "ruler = nlp.add_pipe(\"entity_ruler\")\n",
        "\n",
        "patterns = [{\"label\": \"INTRO\", \"pattern\": \"Hi\"},{\"label\": \"INTRO\", \"pattern\": \"Hello\"},{\"label\": \"INTRO\", \"pattern\": \"morning\"},{\"label\": \"INTRO\", \"pattern\": \"afternoon\"}]\n",
        "\n",
        "# patterns = [{\"label\": \"INTRO\", \"pattern\":[{\"LOWER\":\"Hello\"},{\"LOWER\":\"Hi\"},{\"LOWER\":\"morning\"},{\"LOWER\":\"afternoon\"}]}]\n",
        "\n",
        "ruler.add_patterns(patterns)\n",
        "doc = nlp(text)\n",
        "\n",
        "for ent in doc.ents:\n",
        "  print(ent.text, ent.label_)"
      ],
      "metadata": {
        "colab": {
          "base_uri": "https://localhost:8080/"
        },
        "id": "KOcatZrjOoTw",
        "outputId": "56651738-a622-4679-f83c-2d5996969a1c"
      },
      "execution_count": 14,
      "outputs": [
        {
          "output_type": "stream",
          "name": "stdout",
          "text": [
            "Hello INTRO\n",
            "Hi INTRO\n",
            "Nancy PERSON\n",
            "Mike PERSON\n",
            "AT&T Inc. ORG\n",
            "Nancy PERSON\n",
            "a couple of years DATE\n",
            "three CARDINAL\n",
            "AT&T ORG\n"
          ]
        }
      ]
    },
    {
      "cell_type": "code",
      "source": [
        "sent_data =[]\n",
        "\n",
        "for sent in doc.sents:\n",
        "  data ={\"sentence\": sent}\n",
        "\n",
        "  entities = []\n",
        "  labels = [ e.label_ for e in sent.ents]\n",
        " \n",
        "  if 'INTRO' in labels:\n",
        "      data[\"intent\"] = \"intro\"\n",
        "  else:\n",
        "      data[\"intent\"] = \"purpose\"\n",
        "\n",
        "  for ents in sent.ents:\n",
        "    en ={\"entity_name\":ents.label_,\"entity_value\":ents.text}\n",
        "    entities.append(en)\n",
        "  \n",
        "  data[\"entities\"] = entities\n",
        "\n",
        "  sent_data.append(data)\n",
        "\n",
        "sent_data\n",
        "    "
      ],
      "metadata": {
        "colab": {
          "base_uri": "https://localhost:8080/"
        },
        "id": "0apNEjol5UD3",
        "outputId": "268c5632-a699-46dd-848b-d151aa2618e0"
      },
      "execution_count": 15,
      "outputs": [
        {
          "output_type": "execute_result",
          "data": {
            "text/plain": [
              "[{'sentence':  Hello.,\n",
              "  'intent': 'intro',\n",
              "  'entities': [{'entity_name': 'INTRO', 'entity_value': 'Hello'}]},\n",
              " {'sentence': Hi Nancy.,\n",
              "  'intent': 'intro',\n",
              "  'entities': [{'entity_name': 'INTRO', 'entity_value': 'Hi'},\n",
              "   {'entity_name': 'PERSON', 'entity_value': 'Nancy'}]},\n",
              " {'sentence': This is Mike from AT&T Inc.,\n",
              "  'intent': 'purpose',\n",
              "  'entities': [{'entity_name': 'PERSON', 'entity_value': 'Mike'},\n",
              "   {'entity_name': 'ORG', 'entity_value': 'AT&T Inc.'}]},\n",
              " {'sentence': Yes., 'intent': 'purpose', 'entities': []},\n",
              " {'sentence': How can I help you?, 'intent': 'purpose', 'entities': []},\n",
              " {'sentence': Nancy, you have been using our prepaid connection for a couple of years now, right?,\n",
              "  'intent': 'purpose',\n",
              "  'entities': [{'entity_name': 'PERSON', 'entity_value': 'Nancy'},\n",
              "   {'entity_name': 'DATE', 'entity_value': 'a couple of years'}]},\n",
              " {'sentence': Yeah, that's right., 'intent': 'purpose', 'entities': []},\n",
              " {'sentence': How would you like a postpaid connection that allows you to make free unlimited voice calls to three AT&T numbers?,\n",
              "  'intent': 'purpose',\n",
              "  'entities': [{'entity_name': 'CARDINAL', 'entity_value': 'three'},\n",
              "   {'entity_name': 'ORG', 'entity_value': 'AT&T'}]}]"
            ]
          },
          "metadata": {},
          "execution_count": 15
        }
      ]
    },
    {
      "cell_type": "code",
      "source": [
        "result = {\n",
        "    \"task_1_output\" : text,\n",
        "    \"task_3_output\" : sent_data\n",
        "}\n",
        "result"
      ],
      "metadata": {
        "colab": {
          "base_uri": "https://localhost:8080/"
        },
        "id": "zaaIOaEeshoS",
        "outputId": "7cf359fe-403a-4dfc-c419-e07da147e781"
      },
      "execution_count": 16,
      "outputs": [
        {
          "output_type": "execute_result",
          "data": {
            "text/plain": [
              "{'task_1_output': \" Hello. Hi Nancy. This is Mike from AT&T Inc. Yes. How can I help you? Nancy, you have been using our prepaid connection for a couple of years now, right? Yeah, that's right. How would you like a postpaid connection that allows you to make free unlimited voice calls to three AT&T numbers?\",\n",
              " 'task_3_output': [{'sentence':  Hello.,\n",
              "   'intent': 'intro',\n",
              "   'entities': [{'entity_name': 'INTRO', 'entity_value': 'Hello'}]},\n",
              "  {'sentence': Hi Nancy.,\n",
              "   'intent': 'intro',\n",
              "   'entities': [{'entity_name': 'INTRO', 'entity_value': 'Hi'},\n",
              "    {'entity_name': 'PERSON', 'entity_value': 'Nancy'}]},\n",
              "  {'sentence': This is Mike from AT&T Inc.,\n",
              "   'intent': 'purpose',\n",
              "   'entities': [{'entity_name': 'PERSON', 'entity_value': 'Mike'},\n",
              "    {'entity_name': 'ORG', 'entity_value': 'AT&T Inc.'}]},\n",
              "  {'sentence': Yes., 'intent': 'purpose', 'entities': []},\n",
              "  {'sentence': How can I help you?, 'intent': 'purpose', 'entities': []},\n",
              "  {'sentence': Nancy, you have been using our prepaid connection for a couple of years now, right?,\n",
              "   'intent': 'purpose',\n",
              "   'entities': [{'entity_name': 'PERSON', 'entity_value': 'Nancy'},\n",
              "    {'entity_name': 'DATE', 'entity_value': 'a couple of years'}]},\n",
              "  {'sentence': Yeah, that's right., 'intent': 'purpose', 'entities': []},\n",
              "  {'sentence': How would you like a postpaid connection that allows you to make free unlimited voice calls to three AT&T numbers?,\n",
              "   'intent': 'purpose',\n",
              "   'entities': [{'entity_name': 'CARDINAL', 'entity_value': 'three'},\n",
              "    {'entity_name': 'ORG', 'entity_value': 'AT&T'}]}]}"
            ]
          },
          "metadata": {},
          "execution_count": 16
        }
      ]
    }
  ]
}
